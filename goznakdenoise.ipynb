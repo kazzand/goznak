{
  "nbformat": 4,
  "nbformat_minor": 0,
  "metadata": {
    "colab": {
      "name": "goznakdenoise.ipynb",
      "provenance": []
    },
    "kernelspec": {
      "name": "python3",
      "display_name": "Python 3"
    },
    "accelerator": "GPU"
  },
  "cells": [
    {
      "cell_type": "code",
      "metadata": {
        "id": "qA2dwC0DDg4D",
        "outputId": "01ac236e-5a18-4669-f656-6f8fa2759fbb",
        "colab": {
          "base_uri": "https://localhost:8080/"
        }
      },
      "source": [
        "from google.colab import drive \n",
        "drive.mount('/content/gdrive')"
      ],
      "execution_count": 1,
      "outputs": [
        {
          "output_type": "stream",
          "text": [
            "Mounted at /content/gdrive\n"
          ],
          "name": "stdout"
        }
      ]
    },
    {
      "cell_type": "code",
      "metadata": {
        "id": "AarQMKOKDptV"
      },
      "source": [
        "import numpy as np\n",
        "import matplotlib.pyplot as plt\n",
        "import librosa.display\n",
        "from tqdm import tqdm\n",
        "import librosa.feature\n",
        "from PIL import Image\n",
        "import os\n",
        "import torch\n",
        "import torch.nn as nn\n",
        "from torchvision import models, transforms, datasets\n",
        "from IPython.display import clear_output\n",
        "from sklearn.metrics import mean_squared_error"
      ],
      "execution_count": 2,
      "outputs": []
    },
    {
      "cell_type": "code",
      "metadata": {
        "id": "ZaM4BxtWD7Vh"
      },
      "source": [
        "class ResBlock(nn.Module):\n",
        "    def __init__(self, ch):\n",
        "        super(ResBlock, self).__init__()\n",
        "        self.gamma = nn.Parameter(torch.zeros(1))\n",
        "\n",
        "        self.l1 = nn.Sequential(\n",
        "            nn.BatchNorm2d(ch),\n",
        "            nn.Conv2d(ch,ch,3,padding=1)\n",
        "        )\n",
        "\n",
        "        self.l2 = nn.Sequential(\n",
        "            nn.BatchNorm2d(ch),\n",
        "            nn.Conv2d(ch,ch,3,padding=1)\n",
        "        )\n",
        "\n",
        "    def forward(self, x):\n",
        "        return x + self.gamma*self.l2(self.l1(x))"
      ],
      "execution_count": 3,
      "outputs": []
    },
    {
      "cell_type": "code",
      "metadata": {
        "id": "igiQRH5EFaH5"
      },
      "source": [
        "base_model = nn.Sequential(\n",
        "    nn.Conv2d(1,16,3,padding=1),\n",
        "    nn.LeakyReLU(),\n",
        "    ResBlock(16),\n",
        "    nn.Conv2d(16,64,3,padding=1),\n",
        "    nn.LeakyReLU(),\n",
        "    ResBlock(64),\n",
        "    nn.Conv2d(64,64,3,padding=1),\n",
        "    nn.LeakyReLU(),\n",
        "    ResBlock(64),\n",
        "    nn.Conv2d(64,1,1),\n",
        ")"
      ],
      "execution_count": 4,
      "outputs": []
    },
    {
      "cell_type": "code",
      "metadata": {
        "id": "85qL2WhEGo21"
      },
      "source": [
        "class SuperRes(nn.Module):\n",
        "    def __init__(self, base_model):\n",
        "        super(SuperRes, self).__init__()\n",
        "        self.gamma = nn.Parameter(torch.zeros(1))\n",
        "        self.base_model = base_model\n",
        "    def forward(self,x):\n",
        "        return x + self.gamma*self.base_model(x)"
      ],
      "execution_count": 5,
      "outputs": []
    },
    {
      "cell_type": "code",
      "metadata": {
        "id": "V7SWrq0UH98A"
      },
      "source": [
        "model = SuperRes(base_model).cuda()"
      ],
      "execution_count": 6,
      "outputs": []
    },
    {
      "cell_type": "code",
      "metadata": {
        "id": "y5-sbY6eIUr9",
        "outputId": "6396dd36-1835-4d15-faff-edf3c925b432",
        "colab": {
          "base_uri": "https://localhost:8080/",
          "height": 351
        }
      },
      "source": [
        "class DenoiseData(torch.utils.data.Dataset):\n",
        "    def __init__(self, path_data):\n",
        "        self.path_data = path_data\n",
        "        self.files_data = os.listdir(self.path_data + 'noisy/')\n",
        "        self.files_data.sort()\n",
        "        self.files_target = os.listdir(self.path_data + 'clear')\n",
        "        self.files_target.sort()\n",
        "        self.all_paths_data = [self.path_data + 'noisy/' + name for name in self.files_data]\n",
        "        self.all_paths_target = [self.path_data + 'clear/' + name for name in self.files_target]\n",
        "    def __len__(self):\n",
        "        return len(self.files_data)\n",
        "    def __getitem__(self, idx):\n",
        "        data = spec2image(np.load(self.all_paths_data[idx]).T)\n",
        "        target = spec2image(np.load(self.all_paths_target[idx]).T)\n",
        "        if data.shape[1] <= 200:\n",
        "            data_crop = np.zeros((80,200))\n",
        "            target_crop = np.zeros((80,200))\n",
        "            data_crop[:data.shape[0],:data.shape[1]] = data\n",
        "            target_crop[:target.shape[0],:target.shape[1]] = target\n",
        "        else:\n",
        "            rand_coord = np.random.randint(0, data.shape[1]-200)\n",
        "            data_crop = data[:, rand_coord:rand_coord+200]\n",
        "            target_crop = target[:, rand_coord:rand_coord+200]\n",
        "        data_crop = torch.FloatTensor(data_crop).unsqueeze(0)\n",
        "        target_crop = torch.FloatTensor(target_crop).unsqueeze(0)\n",
        "        data_crop.requires_grad_(True)\n",
        "        target_crop.requires_grad_(True)\n",
        "        return data_crop, target_crop\n",
        "\n",
        "train_data = DenoiseData('/content/gdrive/My Drive/train/')\n",
        "train_loader = torch.utils.data.DataLoader(train_data, batch_size=64, shuffle=True)\n",
        "val_data = DenoiseData('/content/gdrive/My Drive/validate/')\n",
        "val_loader = torch.utils.data.DataLoader(val_data, batch_size=len(val_data), shuffle=True)"
      ],
      "execution_count": 8,
      "outputs": [
        {
          "output_type": "error",
          "ename": "OSError",
          "evalue": "ignored",
          "traceback": [
            "\u001b[0;31m---------------------------------------------------------------------------\u001b[0m",
            "\u001b[0;31mOSError\u001b[0m                                   Traceback (most recent call last)",
            "\u001b[0;32m<ipython-input-8-26d648666999>\u001b[0m in \u001b[0;36m<module>\u001b[0;34m()\u001b[0m\n\u001b[1;32m     28\u001b[0m         \u001b[0;32mreturn\u001b[0m \u001b[0mdata_crop\u001b[0m\u001b[0;34m,\u001b[0m \u001b[0mtarget_crop\u001b[0m\u001b[0;34m\u001b[0m\u001b[0;34m\u001b[0m\u001b[0m\n\u001b[1;32m     29\u001b[0m \u001b[0;34m\u001b[0m\u001b[0m\n\u001b[0;32m---> 30\u001b[0;31m \u001b[0mtrain_data\u001b[0m \u001b[0;34m=\u001b[0m \u001b[0mDenoiseData\u001b[0m\u001b[0;34m(\u001b[0m\u001b[0;34m'/content/gdrive/My Drive/train/'\u001b[0m\u001b[0;34m)\u001b[0m\u001b[0;34m\u001b[0m\u001b[0;34m\u001b[0m\u001b[0m\n\u001b[0m\u001b[1;32m     31\u001b[0m \u001b[0mtrain_loader\u001b[0m \u001b[0;34m=\u001b[0m \u001b[0mtorch\u001b[0m\u001b[0;34m.\u001b[0m\u001b[0mutils\u001b[0m\u001b[0;34m.\u001b[0m\u001b[0mdata\u001b[0m\u001b[0;34m.\u001b[0m\u001b[0mDataLoader\u001b[0m\u001b[0;34m(\u001b[0m\u001b[0mtrain_data\u001b[0m\u001b[0;34m,\u001b[0m \u001b[0mbatch_size\u001b[0m\u001b[0;34m=\u001b[0m\u001b[0;36m64\u001b[0m\u001b[0;34m,\u001b[0m \u001b[0mshuffle\u001b[0m\u001b[0;34m=\u001b[0m\u001b[0;32mTrue\u001b[0m\u001b[0;34m)\u001b[0m\u001b[0;34m\u001b[0m\u001b[0;34m\u001b[0m\u001b[0m\n\u001b[1;32m     32\u001b[0m \u001b[0mval_data\u001b[0m \u001b[0;34m=\u001b[0m \u001b[0mDenoiseData\u001b[0m\u001b[0;34m(\u001b[0m\u001b[0;34m'/content/gdrive/My Drive/validate/'\u001b[0m\u001b[0;34m)\u001b[0m\u001b[0;34m\u001b[0m\u001b[0;34m\u001b[0m\u001b[0m\n",
            "\u001b[0;32m<ipython-input-8-26d648666999>\u001b[0m in \u001b[0;36m__init__\u001b[0;34m(self, path_data)\u001b[0m\n\u001b[1;32m      4\u001b[0m         \u001b[0mself\u001b[0m\u001b[0;34m.\u001b[0m\u001b[0mfiles_data\u001b[0m \u001b[0;34m=\u001b[0m \u001b[0mos\u001b[0m\u001b[0;34m.\u001b[0m\u001b[0mlistdir\u001b[0m\u001b[0;34m(\u001b[0m\u001b[0mself\u001b[0m\u001b[0;34m.\u001b[0m\u001b[0mpath_data\u001b[0m \u001b[0;34m+\u001b[0m \u001b[0;34m'noisy/'\u001b[0m\u001b[0;34m)\u001b[0m\u001b[0;34m\u001b[0m\u001b[0;34m\u001b[0m\u001b[0m\n\u001b[1;32m      5\u001b[0m         \u001b[0mself\u001b[0m\u001b[0;34m.\u001b[0m\u001b[0mfiles_data\u001b[0m\u001b[0;34m.\u001b[0m\u001b[0msort\u001b[0m\u001b[0;34m(\u001b[0m\u001b[0;34m)\u001b[0m\u001b[0;34m\u001b[0m\u001b[0;34m\u001b[0m\u001b[0m\n\u001b[0;32m----> 6\u001b[0;31m         \u001b[0mself\u001b[0m\u001b[0;34m.\u001b[0m\u001b[0mfiles_target\u001b[0m \u001b[0;34m=\u001b[0m \u001b[0mos\u001b[0m\u001b[0;34m.\u001b[0m\u001b[0mlistdir\u001b[0m\u001b[0;34m(\u001b[0m\u001b[0mself\u001b[0m\u001b[0;34m.\u001b[0m\u001b[0mpath_data\u001b[0m \u001b[0;34m+\u001b[0m \u001b[0;34m'clear'\u001b[0m\u001b[0;34m)\u001b[0m\u001b[0;34m\u001b[0m\u001b[0;34m\u001b[0m\u001b[0m\n\u001b[0m\u001b[1;32m      7\u001b[0m         \u001b[0mself\u001b[0m\u001b[0;34m.\u001b[0m\u001b[0mfiles_target\u001b[0m\u001b[0;34m.\u001b[0m\u001b[0msort\u001b[0m\u001b[0;34m(\u001b[0m\u001b[0;34m)\u001b[0m\u001b[0;34m\u001b[0m\u001b[0;34m\u001b[0m\u001b[0m\n\u001b[1;32m      8\u001b[0m         \u001b[0mself\u001b[0m\u001b[0;34m.\u001b[0m\u001b[0mall_paths_data\u001b[0m \u001b[0;34m=\u001b[0m \u001b[0;34m[\u001b[0m\u001b[0mself\u001b[0m\u001b[0;34m.\u001b[0m\u001b[0mpath_data\u001b[0m \u001b[0;34m+\u001b[0m \u001b[0;34m'noisy/'\u001b[0m \u001b[0;34m+\u001b[0m \u001b[0mname\u001b[0m \u001b[0;32mfor\u001b[0m \u001b[0mname\u001b[0m \u001b[0;32min\u001b[0m \u001b[0mself\u001b[0m\u001b[0;34m.\u001b[0m\u001b[0mfiles_data\u001b[0m\u001b[0;34m]\u001b[0m\u001b[0;34m\u001b[0m\u001b[0;34m\u001b[0m\u001b[0m\n",
            "\u001b[0;31mOSError\u001b[0m: [Errno 5] Input/output error: '/content/gdrive/My Drive/train/clear'"
          ]
        }
      ]
    },
    {
      "cell_type": "code",
      "metadata": {
        "id": "uaZyvbr3KhML"
      },
      "source": [
        "def spec2image(spec, eps=1e-6):\n",
        "    mean = spec.mean()\n",
        "    std = spec.std()\n",
        "    spec_norm = (spec - mean) / (std + eps)\n",
        "    spec_min, spec_max = spec_norm.min(), spec_norm.max()\n",
        "    spec_scaled = 255 * (spec_norm - spec_min) / (spec_max - spec_min)\n",
        "    spec_scaled = spec_scaled.astype(np.uint8)\n",
        "    return spec_scaled"
      ],
      "execution_count": 12,
      "outputs": []
    },
    {
      "cell_type": "code",
      "metadata": {
        "id": "TXN8FhkYIZPU",
        "outputId": "42da6150-fb85-40f7-e267-26068ad9c66f",
        "colab": {
          "base_uri": "https://localhost:8080/",
          "height": 315
        }
      },
      "source": [
        "optimizer = torch.optim.Adam(model.parameters())\n",
        "num_epochs = 100\n",
        "train_loss = []\n",
        "\n",
        "for epoch in range(num_epochs):\n",
        "    for X_batch, y_batch in tqdm(train_loader):\n",
        "        X_batch = X_batch.cuda()\n",
        "        y_batch = y_batch.cuda()\n",
        "\n",
        "        optimizer.zero_grad()\n",
        "\n",
        "        predict = model(X_batch)\n",
        "\n",
        "        loss = nn.MSELoss()(predict,y_batch)\n",
        "        loss.backward()    \n",
        "\n",
        "        optimizer.step()\n",
        "\n",
        "        # with torch.no_grad():\n",
        "        #     for x, y in val_loader:\n",
        "        #         x = x.cuda()\n",
        "        #         y = y.cuda()\n",
        "        #         val_predict = model(x)\n",
        "\n",
        "        error = loss.item()\n",
        "        train_loss.append(error)\n",
        "        clear_output(True)\n",
        "\n",
        "        # val = mean_squared_error(y.detach().cpu().numpy(), val_predict.detach().cpu().numpy())\n",
        "        print('Epoch: ', epoch)\n",
        "        # plt.figure(figsize=(10,5))\n",
        "        # plt.subplot(121)\n",
        "        plt.semilogy(train_loss)\n",
        "        plt.title('Train loss')\n",
        "        plt.grid()\n",
        "        # plt.subplot(122)\n",
        "        # plt.plot(roc)\n",
        "        # plt.title('Validation MSE')\n",
        "        # plt.grid()\n",
        "        plt.show()\n",
        "    torch.save(model, '/content/gdrive/My Drive/denoise_model')"
      ],
      "execution_count": null,
      "outputs": [
        {
          "output_type": "stream",
          "text": [
            "Epoch:  11\n"
          ],
          "name": "stdout"
        },
        {
          "output_type": "display_data",
          "data": {
            "image/png": "[encoded data removed]",
            "text/plain": [
              "<Figure size 432x288 with 1 Axes>"
            ]
          },
          "metadata": {
            "tags": [],
            "needs_background": "light"
          }
        },
        {
          "output_type": "stream",
          "text": [
            "\r 74%|███████▍  | 140/188 [05:35<01:53,  2.37s/it]"
          ],
          "name": "stderr"
        }
      ]
    },
    {
      "cell_type": "code",
      "metadata": {
        "id": "dGdZPzEIKYh3"
      },
      "source": [
        ""
      ],
      "execution_count": null,
      "outputs": []
    }
  ]
}