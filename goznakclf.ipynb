{
  "nbformat": 4,
  "nbformat_minor": 0,
  "metadata": {
    "colab": {
      "name": "goznakclf.ipynb",
      "provenance": [],
      "authorship_tag": "ABX9TyP8ZL0QpDFwhWVdCL8lj6H8",
      "include_colab_link": true
    },
    "kernelspec": {
      "name": "python3",
      "display_name": "Python 3"
    },
    "accelerator": "GPU"
  },
  "cells": [
    {
      "cell_type": "markdown",
      "metadata": {
        "id": "view-in-github",
        "colab_type": "text"
      },
      "source": [
        "<a href=\"https://colab.research.google.com/github/kazzand/goznak/blob/main/goznakclf.ipynb\" target=\"_parent\"><img src=\"https://colab.research.google.com/assets/colab-badge.svg\" alt=\"Open In Colab\"/></a>"
      ]
    },
    {
      "cell_type": "code",
      "metadata": {
        "id": "FY1sctBF_KSx",
        "outputId": "17238b92-8201-4766-d2fa-b4f1c11b9cca",
        "colab": {
          "base_uri": "https://localhost:8080/"
        }
      },
      "source": [
        "from google.colab import drive \n",
        "drive.mount('/content/gdrive')"
      ],
      "execution_count": 1,
      "outputs": [
        {
          "output_type": "stream",
          "text": [
            "Drive already mounted at /content/gdrive; to attempt to forcibly remount, call drive.mount(\"/content/gdrive\", force_remount=True).\n"
          ],
          "name": "stdout"
        }
      ]
    },
    {
      "cell_type": "code",
      "metadata": {
        "id": "KcpUAUZWaqiu"
      },
      "source": [
        "import numpy as np\n",
        "import matplotlib.pyplot as plt\n",
        "import librosa.display\n",
        "from tqdm import tqdm\n",
        "import librosa.feature\n",
        "from PIL import Image\n",
        "import os\n",
        "import torch\n",
        "import torch.nn as nn\n",
        "from torchvision import models, transforms, datasets\n",
        "from IPython.display import clear_output\n",
        "from sklearn.metrics import roc_auc_score"
      ],
      "execution_count": 2,
      "outputs": []
    },
    {
      "cell_type": "code",
      "metadata": {
        "id": "jAqvNciSazZg"
      },
      "source": [
        "custom_model = nn.Sequential(\n",
        "    nn.Conv2d(1, 32, kernel_size=(5, 5), stride=(2, 2), bias=True),\n",
        "    nn.LeakyReLU(),\n",
        "    nn.MaxPool2d(kernel_size=5, stride=2),\n",
        "    nn.Conv2d(32, 32, kernel_size=(5, 5), stride=(2, 2), bias=True),\n",
        "    nn.LeakyReLU(),\n",
        "    nn.MaxPool2d(kernel_size=5, stride=3),\n",
        "    # nn.Conv2d(32, 32, kernel_size=(5, 5), stride=(1, 1), bias=True),\n",
        "    # nn.LeakyReLU(),\n",
        "    # nn.MaxPool2d(kernel_size=3, stride=1),\n",
        "    nn.Flatten(),\n",
        "    nn.Linear(in_features=192, out_features=1, bias=True),\n",
        "    nn.Sigmoid()\n",
        ")"
      ],
      "execution_count": 3,
      "outputs": []
    },
    {
      "cell_type": "code",
      "metadata": {
        "id": "E9RyUhYA0oTm"
      },
      "source": [
        "def spec2image(spec, eps=1e-6):\n",
        "    mean = spec.mean()\n",
        "    std = spec.std()\n",
        "    spec_norm = (spec - mean) / (std + eps)\n",
        "    spec_min, spec_max = spec_norm.min(), spec_norm.max()\n",
        "    spec_scaled = 255 * (spec_norm - spec_min) / (spec_max - spec_min)\n",
        "    spec_scaled = spec_scaled.astype(np.uint8)\n",
        "    return spec_scaled"
      ],
      "execution_count": 4,
      "outputs": []
    },
    {
      "cell_type": "code",
      "metadata": {
        "id": "DRcsnsGNyP9s"
      },
      "source": [
        "class CLFData(torch.utils.data.Dataset):\n",
        "    def __init__(self, path_data):\n",
        "        self.path_data = path_data\n",
        "        self.class1 = os.listdir(self.path_data + 'noisy')\n",
        "        self.class1.sort()\n",
        "        self.class2 = os.listdir(self.path_data + 'clear')\n",
        "        self.class2.sort()\n",
        "        self.labels0 = np.zeros(len(self.class1))\n",
        "        self.labels1 = np.ones(len(self.class2))\n",
        "        self.all_paths_class1 = np.array([self.path_data + 'noisy/' + name for name in self.class1])\n",
        "        self.all_paths_class2 = np.array([self.path_data + 'clear/' + name for name in self.class2])\n",
        "        self.all_paths = np.hstack((self.all_paths_class1,self.all_paths_class2))\n",
        "        self.labels = np.hstack((self.labels0, self.labels1))\n",
        "    def __len__(self):\n",
        "        return len(self.all_paths)\n",
        "    def __getitem__(self, idx):\n",
        "        image = spec2image(np.load(self.all_paths[idx]).T)\n",
        "        if image.shape[1] <= 200:\n",
        "            image_crop = np.zeros((80,200))\n",
        "            image_crop[:image.shape[0],:image.shape[1]] = image\n",
        "        else:\n",
        "            rand_coord = np.random.randint(0, image.shape[1]-200)\n",
        "            image_crop = image[:, rand_coord:rand_coord+200]\n",
        "        image_crop = torch.FloatTensor(image_crop)\n",
        "        image_crop = image_crop.unsqueeze(0)\n",
        "        image_crop.requires_grad_(True)\n",
        "        return image_crop, torch.FloatTensor([self.labels[idx]])"
      ],
      "execution_count": 5,
      "outputs": []
    },
    {
      "cell_type": "code",
      "metadata": {
        "id": "kFJodlz3BXec",
        "outputId": "b73ee88e-788f-442e-ad0f-1455537efd97",
        "colab": {
          "base_uri": "https://localhost:8080/"
        }
      },
      "source": [
        "x = torch.ones((30, 1, 80, 200))\n",
        "print(custom_model)\n",
        "custom_model(x).shape"
      ],
      "execution_count": 6,
      "outputs": [
        {
          "output_type": "stream",
          "text": [
            "Sequential(\n",
            "  (0): Conv2d(1, 32, kernel_size=(5, 5), stride=(2, 2))\n",
            "  (1): LeakyReLU(negative_slope=0.01)\n",
            "  (2): MaxPool2d(kernel_size=5, stride=2, padding=0, dilation=1, ceil_mode=False)\n",
            "  (3): Conv2d(32, 32, kernel_size=(5, 5), stride=(2, 2))\n",
            "  (4): LeakyReLU(negative_slope=0.01)\n",
            "  (5): MaxPool2d(kernel_size=5, stride=3, padding=0, dilation=1, ceil_mode=False)\n",
            "  (6): Flatten(start_dim=1, end_dim=-1)\n",
            "  (7): Linear(in_features=192, out_features=1, bias=True)\n",
            "  (8): Sigmoid()\n",
            ")\n"
          ],
          "name": "stdout"
        },
        {
          "output_type": "execute_result",
          "data": {
            "text/plain": [
              "torch.Size([30, 1])"
            ]
          },
          "metadata": {
            "tags": []
          },
          "execution_count": 6
        }
      ]
    },
    {
      "cell_type": "code",
      "metadata": {
        "id": "a1J_15IxyRdW"
      },
      "source": [
        "train_data = CLFData('/content/gdrive/My Drive/train/')\n",
        "train_loader = torch.utils.data.DataLoader(train_data, batch_size=256, shuffle=True)\n",
        "val_data = CLFData('/content/gdrive/My Drive/validate/')\n",
        "val_loader = torch.utils.data.DataLoader(val_data, batch_size=len(val_data), shuffle=True)"
      ],
      "execution_count": 7,
      "outputs": []
    },
    {
      "cell_type": "code",
      "metadata": {
        "id": "qO-GLFB1bSHz",
        "outputId": "941011e1-5faa-4ee7-9db5-3b0ebf3736f0",
        "colab": {
          "base_uri": "https://localhost:8080/",
          "height": 370
        }
      },
      "source": [
        "model = custom_model\n",
        "optimizer = torch.optim.Adam(model.parameters())\n",
        "\n",
        "num_epochs = 100\n",
        "train_loss = []\n",
        "roc = []\n",
        "\n",
        "model = model.cuda()\n",
        "\n",
        "for epoch in range(num_epochs):\n",
        "    for X_batch, y_batch in tqdm(train_loader):\n",
        "        clear_output(True)\n",
        "        X_batch = X_batch.cuda()\n",
        "        y_batch = y_batch.cuda()\n",
        "\n",
        "        optimizer.zero_grad()\n",
        "\n",
        "        predict = model(X_batch)\n",
        "\n",
        "        loss = nn.BCELoss()(predict,y_batch)\n",
        "        loss.backward()    \n",
        "\n",
        "        optimizer.step()\n",
        "\n",
        "        error = loss.item()\n",
        "        train_loss.append(error)\n",
        "\n",
        "        with torch.no_grad():\n",
        "            for x, y in val_loader:\n",
        "                x = x.cuda()\n",
        "                y = y.cuda()\n",
        "                val_predict = model(x)\n",
        "    \n",
        "        \n",
        "        print('Epoch: ', epoch)\n",
        "        roc.append(roc_auc_score(y.detach().cpu().numpy(), val_predict.detach().cpu().numpy().ravel()))\n",
        "        plt.figure(figsize=(10,5))\n",
        "        plt.subplot(121)\n",
        "        plt.semilogy(train_loss)\n",
        "        plt.title('Train loss')\n",
        "        plt.grid()\n",
        "        plt.subplot(122)\n",
        "        plt.plot(roc)\n",
        "        plt.title('val ROC-AUC')\n",
        "        plt.grid()\n",
        "        plt.show()\n"
      ],
      "execution_count": null,
      "outputs": [
        {
          "output_type": "stream",
          "text": [
            "Epoch:  2\n"
          ],
          "name": "stdout"
        },
        {
          "output_type": "display_data",
          "data": {
            "image/png": "[encoded data removed]",
            "text/plain": [
              "<Figure size 720x360 with 2 Axes>"
            ]
          },
          "metadata": {
            "tags": [],
            "needs_background": "light"
          }
        },
        {
          "output_type": "stream",
          "text": [
            "\r 86%|████████▌ | 81/94 [58:29<08:39, 39.98s/it]"
          ],
          "name": "stderr"
        }
      ]
    },
    {
      "cell_type": "code",
      "metadata": {
        "id": "IJGd6fa71DP9"
      },
      "source": [
        ""
      ],
      "execution_count": null,
      "outputs": []
    }
  ]
}